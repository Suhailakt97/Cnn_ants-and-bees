{
 "cells": [
  {
   "cell_type": "code",
   "execution_count": 1,
   "id": "71846122",
   "metadata": {
    "_cell_guid": "b1076dfc-b9ad-4769-8c92-a6c4dae69d19",
    "_uuid": "8f2839f25d086af736a60e9eeb907d3b93b6e0e5",
    "execution": {
     "iopub.execute_input": "2024-10-16T14:56:41.872950Z",
     "iopub.status.busy": "2024-10-16T14:56:41.872469Z",
     "iopub.status.idle": "2024-10-16T14:56:43.075733Z",
     "shell.execute_reply": "2024-10-16T14:56:43.074541Z"
    },
    "papermill": {
     "duration": 1.218028,
     "end_time": "2024-10-16T14:56:43.080632",
     "exception": false,
     "start_time": "2024-10-16T14:56:41.862604",
     "status": "completed"
    },
    "tags": []
   },
   "outputs": [
    {
     "name": "stdout",
     "output_type": "stream",
     "text": [
      "/kaggle/input/hymenoptera/README.md\n",
      "/kaggle/input/hymenoptera/cover.jpg\n",
      "/kaggle/input/hymenoptera/hymenoptera/val/ants/2219621907_47bc7cc6b0.jpg\n",
      "/kaggle/input/hymenoptera/hymenoptera/val/ants/183260961_64ab754c97.jpg\n",
      "/kaggle/input/hymenoptera/hymenoptera/val/ants/892676922_4ab37dce07.jpg\n",
      "/kaggle/input/hymenoptera/hymenoptera/val/ants/147542264_79506478c2.jpg\n",
      "/kaggle/input/hymenoptera/hymenoptera/val/ants/8124241_36b290d372.jpg\n",
      "/kaggle/input/hymenoptera/hymenoptera/val/ants/751649788_78dd7d16ce.jpg\n",
      "/kaggle/input/hymenoptera/hymenoptera/val/ants/1119630822_cd325ea21a.jpg\n",
      "/kaggle/input/hymenoptera/hymenoptera/val/ants/161292361_c16e0bf57a.jpg\n",
      "/kaggle/input/hymenoptera/hymenoptera/val/ants/172772109_d0a8e15fb0.jpg\n",
      "/kaggle/input/hymenoptera/hymenoptera/val/ants/1743840368_b5ccda82b7.jpg\n",
      "/kaggle/input/hymenoptera/hymenoptera/val/ants/1337725712_2eb53cd742.jpg\n",
      "/kaggle/input/hymenoptera/hymenoptera/val/ants/854534770_31f6156383.jpg\n",
      "/kaggle/input/hymenoptera/hymenoptera/val/ants/F.pergan.28(f).jpg\n",
      "/kaggle/input/hymenoptera/hymenoptera/val/ants/2238242353_52c82441df.jpg\n",
      "/kaggle/input/hymenoptera/hymenoptera/val/ants/470127071_8b8ee2bd74.jpg\n",
      "/kaggle/input/hymenoptera/hymenoptera/val/ants/436944325_d4925a38c7.jpg\n",
      "/kaggle/input/hymenoptera/hymenoptera/val/ants/94999827_36895faade.jpg\n",
      "/kaggle/input/hymenoptera/hymenoptera/val/ants/159515240_d5981e20d1.jpg\n",
      "/kaggle/input/hymenoptera/hymenoptera/val/ants/10308379_1b6c72e180.jpg\n",
      "/kaggle/input/hymenoptera/hymenoptera/val/ants/540543309_ddbb193ee5.jpg\n",
      "/kaggle/input/hymenoptera/hymenoptera/val/ants/459442412_412fecf3fe.jpg\n",
      "/kaggle/input/hymenoptera/hymenoptera/val/ants/205398178_c395c5e460.jpg\n",
      "/kaggle/input/hymenoptera/hymenoptera/val/ants/35558229_1fa4608a7a.jpg\n",
      "/kaggle/input/hymenoptera/hymenoptera/val/ants/152286280_411648ec27.jpg\n",
      "/kaggle/input/hymenoptera/hymenoptera/val/ants/308196310_1db5ffa01b.jpg\n",
      "/kaggle/input/hymenoptera/hymenoptera/val/ants/ants-devouring-remains-of-large-dead-insect-on-red-tile-in-Stellenbosch-South-Africa-closeup-1-DHD.jpg\n",
      "/kaggle/input/hymenoptera/hymenoptera/val/ants/1053149811_f62a3410d3.jpg\n",
      "/kaggle/input/hymenoptera/hymenoptera/val/ants/2211974567_ee4606b493.jpg\n",
      "/kaggle/input/hymenoptera/hymenoptera/val/ants/2127908701_d49dc83c97.jpg\n",
      "/kaggle/input/hymenoptera/hymenoptera/val/ants/562589509_7e55469b97.jpg\n",
      "/kaggle/input/hymenoptera/hymenoptera/val/ants/157401988_d0564a9d02.jpg\n",
      "/kaggle/input/hymenoptera/hymenoptera/val/ants/319494379_648fb5a1c6.jpg\n",
      "/kaggle/input/hymenoptera/hymenoptera/val/ants/1247887232_edcb61246c.jpg\n",
      "/kaggle/input/hymenoptera/hymenoptera/val/ants/1124525276_816a07c17f.jpg\n",
      "/kaggle/input/hymenoptera/hymenoptera/val/ants/181942028_961261ef48.jpg\n",
      "/kaggle/input/hymenoptera/hymenoptera/val/ants/2104709400_8831b4fc6f.jpg\n",
      "/kaggle/input/hymenoptera/hymenoptera/val/ants/518746016_bcc28f8b5b.jpg\n",
      "/kaggle/input/hymenoptera/hymenoptera/val/ants/209615353_eeb38ba204.jpg\n",
      "/kaggle/input/hymenoptera/hymenoptera/val/ants/477437164_bc3e6e594a.jpg\n",
      "/kaggle/input/hymenoptera/hymenoptera/val/ants/153320619_2aeb5fa0ee.jpg\n",
      "/kaggle/input/hymenoptera/hymenoptera/val/ants/2039585088_c6f47c592e.jpg\n",
      "/kaggle/input/hymenoptera/hymenoptera/val/ants/57264437_a19006872f.jpg\n",
      "/kaggle/input/hymenoptera/hymenoptera/val/ants/2191997003_379df31291.jpg\n",
      "/kaggle/input/hymenoptera/hymenoptera/val/ants/161076144_124db762d6.jpg\n",
      "/kaggle/input/hymenoptera/hymenoptera/val/ants/412436937_4c2378efc2.jpg\n",
      "/kaggle/input/hymenoptera/hymenoptera/val/ants/208072188_f293096296.jpg\n",
      "/kaggle/input/hymenoptera/hymenoptera/val/ants/573151833_ebbc274b77.jpg\n",
      "/kaggle/input/hymenoptera/hymenoptera/val/ants/Hormiga.jpg\n",
      "/kaggle/input/hymenoptera/hymenoptera/val/ants/1440002809_b268d9a66a.jpg\n",
      "/kaggle/input/hymenoptera/hymenoptera/val/ants/239161491_86ac23b0a3.jpg\n",
      "/kaggle/input/hymenoptera/hymenoptera/val/ants/800px-Meat_eater_ant_qeen_excavating_hole.jpg\n",
      "/kaggle/input/hymenoptera/hymenoptera/val/ants/502717153_3e4865621a.jpg\n",
      "/kaggle/input/hymenoptera/hymenoptera/val/ants/1262751255_c56c042b7b.jpg\n",
      "/kaggle/input/hymenoptera/hymenoptera/val/ants/153783656_85f9c3ac70.jpg\n",
      "/kaggle/input/hymenoptera/hymenoptera/val/ants/488272201_c5aa281348.jpg\n",
      "/kaggle/input/hymenoptera/hymenoptera/val/ants/1073564163_225a64f170.jpg\n",
      "/kaggle/input/hymenoptera/hymenoptera/val/ants/desert_ant.jpg\n",
      "/kaggle/input/hymenoptera/hymenoptera/val/ants/1358854066_5ad8015f7f.jpg\n",
      "/kaggle/input/hymenoptera/hymenoptera/val/ants/445356866_6cb3289067.jpg\n",
      "/kaggle/input/hymenoptera/hymenoptera/val/ants/11381045_b352a47d8c.jpg\n",
      "/kaggle/input/hymenoptera/hymenoptera/val/ants/Ant-1818.jpg\n",
      "/kaggle/input/hymenoptera/hymenoptera/val/ants/212100470_b485e7b7b9.jpg\n",
      "/kaggle/input/hymenoptera/hymenoptera/val/ants/17081114_79b9a27724.jpg\n",
      "/kaggle/input/hymenoptera/hymenoptera/val/ants/170652283_ecdaff5d1a.jpg\n",
      "/kaggle/input/hymenoptera/hymenoptera/val/ants/2255445811_dabcdf7258.jpg\n",
      "/kaggle/input/hymenoptera/hymenoptera/val/ants/768870506_8f115d3d37.jpg\n",
      "/kaggle/input/hymenoptera/hymenoptera/val/ants/263615709_cfb28f6b8e.jpg\n",
      "/kaggle/input/hymenoptera/hymenoptera/val/ants/8398478_50ef10c47a.jpg\n",
      "/kaggle/input/hymenoptera/hymenoptera/val/ants/649407494_9b6bc4949f.jpg\n",
      "/kaggle/input/hymenoptera/hymenoptera/val/ants/119785936_dd428e40c3.jpg\n",
      "/kaggle/input/hymenoptera/hymenoptera/val/bees/586474709_ae436da045.jpg\n",
      "/kaggle/input/hymenoptera/hymenoptera/val/bees/57459255_752774f1b2.jpg\n",
      "/kaggle/input/hymenoptera/hymenoptera/val/bees/2525379273_dcb26a516d.jpg\n",
      "/kaggle/input/hymenoptera/hymenoptera/val/bees/3077452620_548c79fda0.jpg\n",
      "/kaggle/input/hymenoptera/hymenoptera/val/bees/416144384_961c326481.jpg\n",
      "/kaggle/input/hymenoptera/hymenoptera/val/bees/59798110_2b6a3c8031.jpg\n",
      "/kaggle/input/hymenoptera/hymenoptera/val/bees/2086294791_6f3789d8a6.jpg\n",
      "/kaggle/input/hymenoptera/hymenoptera/val/bees/590318879_68cf112861.jpg\n",
      "/kaggle/input/hymenoptera/hymenoptera/val/bees/1355974687_1341c1face.jpg\n",
      "/kaggle/input/hymenoptera/hymenoptera/val/bees/2702408468_d9ed795f4f.jpg\n",
      "/kaggle/input/hymenoptera/hymenoptera/val/bees/759745145_e8bc776ec8.jpg\n",
      "/kaggle/input/hymenoptera/hymenoptera/val/bees/1519368889_4270261ee3.jpg\n",
      "/kaggle/input/hymenoptera/hymenoptera/val/bees/372228424_16da1f8884.jpg\n",
      "/kaggle/input/hymenoptera/hymenoptera/val/bees/220376539_20567395d8.jpg\n",
      "/kaggle/input/hymenoptera/hymenoptera/val/bees/290082189_f66cb80bfc.jpg\n",
      "/kaggle/input/hymenoptera/hymenoptera/val/bees/2709775832_85b4b50a57.jpg\n",
      "/kaggle/input/hymenoptera/hymenoptera/val/bees/2415414155_1916f03b42.jpg\n",
      "/kaggle/input/hymenoptera/hymenoptera/val/bees/224841383_d050f5f510.jpg\n",
      "/kaggle/input/hymenoptera/hymenoptera/val/bees/603711658_4c8cd2201e.jpg\n",
      "/kaggle/input/hymenoptera/hymenoptera/val/bees/54736755_c057723f64.jpg\n",
      "/kaggle/input/hymenoptera/hymenoptera/val/bees/203868383_0fcbb48278.jpg\n",
      "/kaggle/input/hymenoptera/hymenoptera/val/bees/2457841282_7867f16639.jpg\n",
      "/kaggle/input/hymenoptera/hymenoptera/val/bees/353266603_d3eac7e9a0.jpg\n",
      "/kaggle/input/hymenoptera/hymenoptera/val/bees/144098310_a4176fd54d.jpg\n",
      "/kaggle/input/hymenoptera/hymenoptera/val/bees/2444778727_4b781ac424.jpg\n",
      "/kaggle/input/hymenoptera/hymenoptera/val/bees/2745389517_250a397f31.jpg\n",
      "/kaggle/input/hymenoptera/hymenoptera/val/bees/abeja.jpg\n",
      "/kaggle/input/hymenoptera/hymenoptera/val/bees/603709866_a97c7cfc72.jpg\n",
      "/kaggle/input/hymenoptera/hymenoptera/val/bees/2685605303_9eed79d59d.jpg\n",
      "/kaggle/input/hymenoptera/hymenoptera/val/bees/187130242_4593a4c610.jpg\n",
      "/kaggle/input/hymenoptera/hymenoptera/val/bees/2060668999_e11edb10d0.jpg\n",
      "/kaggle/input/hymenoptera/hymenoptera/val/bees/2668391343_45e272cd07.jpg\n",
      "/kaggle/input/hymenoptera/hymenoptera/val/bees/2782079948_8d4e94a826.jpg\n",
      "/kaggle/input/hymenoptera/hymenoptera/val/bees/2501530886_e20952b97d.jpg\n",
      "/kaggle/input/hymenoptera/hymenoptera/val/bees/540976476_844950623f.jpg\n",
      "/kaggle/input/hymenoptera/hymenoptera/val/bees/2717418782_bd83307d9f.jpg\n",
      "/kaggle/input/hymenoptera/hymenoptera/val/bees/65038344_52a45d090d.jpg\n",
      "/kaggle/input/hymenoptera/hymenoptera/val/bees/1297972485_33266a18d9.jpg\n",
      "/kaggle/input/hymenoptera/hymenoptera/val/bees/26589803_5ba7000313.jpg\n",
      "/kaggle/input/hymenoptera/hymenoptera/val/bees/2103637821_8d26ee6b90.jpg\n",
      "/kaggle/input/hymenoptera/hymenoptera/val/bees/296565463_d07a7bed96.jpg\n",
      "/kaggle/input/hymenoptera/hymenoptera/val/bees/2509402554_31821cb0b6.jpg\n",
      "/kaggle/input/hymenoptera/hymenoptera/val/bees/400262091_701c00031c.jpg\n",
      "/kaggle/input/hymenoptera/hymenoptera/val/bees/1032546534_06907fe3b3.jpg\n",
      "/kaggle/input/hymenoptera/hymenoptera/val/bees/2438480600_40a1249879.jpg\n",
      "/kaggle/input/hymenoptera/hymenoptera/val/bees/238161922_55fa9a76ae.jpg\n",
      "/kaggle/input/hymenoptera/hymenoptera/val/bees/1328423762_f7a88a8451.jpg\n",
      "/kaggle/input/hymenoptera/hymenoptera/val/bees/485743562_d8cc6b8f73.jpg\n",
      "/kaggle/input/hymenoptera/hymenoptera/val/bees/215512424_687e1e0821.jpg\n",
      "/kaggle/input/hymenoptera/hymenoptera/val/bees/350436573_41f4ecb6c8.jpg\n",
      "/kaggle/input/hymenoptera/hymenoptera/val/bees/6a00d8341c630a53ef00e553d0beb18834-800wi.jpg\n",
      "/kaggle/input/hymenoptera/hymenoptera/val/bees/2104135106_a65eede1de.jpg\n",
      "/kaggle/input/hymenoptera/hymenoptera/val/bees/151603988_2c6f7d14c7.jpg\n",
      "/kaggle/input/hymenoptera/hymenoptera/val/bees/72100438_73de9f17af.jpg\n",
      "/kaggle/input/hymenoptera/hymenoptera/val/bees/151594775_ee7dc17b60.jpg\n",
      "/kaggle/input/hymenoptera/hymenoptera/val/bees/44105569_16720a960c.jpg\n",
      "/kaggle/input/hymenoptera/hymenoptera/val/bees/1799729694_0c40101071.jpg\n",
      "/kaggle/input/hymenoptera/hymenoptera/val/bees/456097971_860949c4fc.jpg\n",
      "/kaggle/input/hymenoptera/hymenoptera/val/bees/348291597_ee836fbb1a.jpg\n",
      "/kaggle/input/hymenoptera/hymenoptera/val/bees/2321144482_f3785ba7b2.jpg\n",
      "/kaggle/input/hymenoptera/hymenoptera/val/bees/2841437312_789699c740.jpg\n",
      "/kaggle/input/hymenoptera/hymenoptera/val/bees/2815838190_0a9889d995.jpg\n",
      "/kaggle/input/hymenoptera/hymenoptera/val/bees/181171681_c5a1a82ded.jpg\n",
      "/kaggle/input/hymenoptera/hymenoptera/val/bees/2670536155_c170f49cd0.jpg\n",
      "/kaggle/input/hymenoptera/hymenoptera/val/bees/2751836205_6f7b5eff30.jpg\n",
      "/kaggle/input/hymenoptera/hymenoptera/val/bees/2470492902_3572c90f75.jpg\n",
      "/kaggle/input/hymenoptera/hymenoptera/val/bees/152789693_220b003452.jpg\n",
      "/kaggle/input/hymenoptera/hymenoptera/val/bees/576452297_897023f002.jpg\n",
      "/kaggle/input/hymenoptera/hymenoptera/val/bees/2809496124_5f25b5946a.jpg\n",
      "/kaggle/input/hymenoptera/hymenoptera/val/bees/10870992_eebeeb3a12.jpg\n",
      "/kaggle/input/hymenoptera/hymenoptera/val/bees/2478216347_535c8fe6d7.jpg\n",
      "/kaggle/input/hymenoptera/hymenoptera/val/bees/2741763055_9a7bb00802.jpg\n",
      "/kaggle/input/hymenoptera/hymenoptera/val/bees/2883093452_7e3a1eb53f.jpg\n",
      "/kaggle/input/hymenoptera/hymenoptera/val/bees/2407809945_fb525ef54d.jpg\n",
      "/kaggle/input/hymenoptera/hymenoptera/val/bees/936182217_c4caa5222d.jpg\n",
      "/kaggle/input/hymenoptera/hymenoptera/val/bees/272986700_d4d4bf8c4b.jpg\n",
      "/kaggle/input/hymenoptera/hymenoptera/val/bees/1486120850_490388f84b.jpg\n",
      "/kaggle/input/hymenoptera/hymenoptera/val/bees/2506114833_90a41c5267.jpg\n",
      "/kaggle/input/hymenoptera/hymenoptera/val/bees/2173503984_9c6aaaa7e2.jpg\n",
      "/kaggle/input/hymenoptera/hymenoptera/val/bees/177677657_a38c97e572.jpg\n",
      "/kaggle/input/hymenoptera/hymenoptera/val/bees/149973093_da3c446268.jpg\n",
      "/kaggle/input/hymenoptera/hymenoptera/val/bees/464594019_1b24a28bb1.jpg\n",
      "/kaggle/input/hymenoptera/hymenoptera/val/bees/1181173278_23c36fac71.jpg\n",
      "/kaggle/input/hymenoptera/hymenoptera/train/ants/522163566_fec115ca66.jpg\n",
      "/kaggle/input/hymenoptera/hymenoptera/train/ants/374435068_7eee412ec4.jpg\n",
      "/kaggle/input/hymenoptera/hymenoptera/train/ants/1286984635_5119e80de1.jpg\n",
      "/kaggle/input/hymenoptera/hymenoptera/train/ants/892108839_f1aad4ca46.jpg\n",
      "/kaggle/input/hymenoptera/hymenoptera/train/ants/1225872729_6f0856588f.jpg\n",
      "/kaggle/input/hymenoptera/hymenoptera/train/ants/1489674356_09d48dde0a.jpg\n",
      "/kaggle/input/hymenoptera/hymenoptera/train/ants/470127037_513711fd21.jpg\n",
      "/kaggle/input/hymenoptera/hymenoptera/train/ants/178538489_bec7649292.jpg\n",
      "/kaggle/input/hymenoptera/hymenoptera/train/ants/938946700_ca1c669085.jpg\n",
      "/kaggle/input/hymenoptera/hymenoptera/train/ants/7759525_1363d24e88.jpg\n",
      "/kaggle/input/hymenoptera/hymenoptera/train/ants/1693954099_46d4c20605.jpg\n",
      "/kaggle/input/hymenoptera/hymenoptera/train/ants/649026570_e58656104b.jpg\n",
      "/kaggle/input/hymenoptera/hymenoptera/train/ants/512863248_43c8ce579b.jpg\n",
      "/kaggle/input/hymenoptera/hymenoptera/train/ants/408393566_b5b694119b.jpg\n",
      "/kaggle/input/hymenoptera/hymenoptera/train/ants/886401651_f878e888cd.jpg\n",
      "/kaggle/input/hymenoptera/hymenoptera/train/ants/255434217_1b2b3fe0a4.jpg\n",
      "/kaggle/input/hymenoptera/hymenoptera/train/ants/Ant_1.jpg\n",
      "/kaggle/input/hymenoptera/hymenoptera/train/ants/424873399_47658a91fb.jpg\n",
      "/kaggle/input/hymenoptera/hymenoptera/train/ants/207947948_3ab29d7207.jpg\n",
      "/kaggle/input/hymenoptera/hymenoptera/train/ants/swiss-army-ant.jpg\n",
      "/kaggle/input/hymenoptera/hymenoptera/train/ants/2265824718_2c96f485da.jpg\n",
      "/kaggle/input/hymenoptera/hymenoptera/train/ants/196057951_63bf063b92.jpg\n",
      "/kaggle/input/hymenoptera/hymenoptera/train/ants/226951206_d6bf946504.jpg\n",
      "/kaggle/input/hymenoptera/hymenoptera/train/ants/196757565_326437f5fe.jpg\n",
      "/kaggle/input/hymenoptera/hymenoptera/train/ants/5650366_e22b7e1065.jpg\n",
      "/kaggle/input/hymenoptera/hymenoptera/train/ants/150801003_3390b73135.jpg\n",
      "/kaggle/input/hymenoptera/hymenoptera/train/ants/132478121_2a430adea2.jpg\n",
      "/kaggle/input/hymenoptera/hymenoptera/train/ants/2278278459_6b99605e50.jpg\n",
      "/kaggle/input/hymenoptera/hymenoptera/train/ants/541630764_dbd285d63c.jpg\n",
      "/kaggle/input/hymenoptera/hymenoptera/train/ants/trap-jaw-ant-insect-bg.jpg\n",
      "/kaggle/input/hymenoptera/hymenoptera/train/ants/24335309_c5ea483bb8.jpg\n",
      "/kaggle/input/hymenoptera/hymenoptera/train/ants/339670531_94b75ae47a.jpg\n",
      "/kaggle/input/hymenoptera/hymenoptera/train/ants/1808777855_2a895621d7.jpg\n",
      "/kaggle/input/hymenoptera/hymenoptera/train/ants/795000156_a9900a4a71.jpg\n",
      "/kaggle/input/hymenoptera/hymenoptera/train/ants/20935278_9190345f6b.jpg\n",
      "/kaggle/input/hymenoptera/hymenoptera/train/ants/560966032_988f4d7bc4.jpg\n",
      "/kaggle/input/hymenoptera/hymenoptera/train/ants/506249836_717b73f540.jpg\n",
      "/kaggle/input/hymenoptera/hymenoptera/train/ants/684133190_35b62c0c1d.jpg\n",
      "/kaggle/input/hymenoptera/hymenoptera/train/ants/403746349_71384f5b58.jpg\n",
      "/kaggle/input/hymenoptera/hymenoptera/train/ants/201558278_fe4caecc76.jpg\n",
      "/kaggle/input/hymenoptera/hymenoptera/train/ants/116570827_e9c126745d.jpg\n",
      "/kaggle/input/hymenoptera/hymenoptera/train/ants/224655713_3956f7d39a.jpg\n",
      "/kaggle/input/hymenoptera/hymenoptera/train/ants/460372577_f2f6a8c9fc.jpg\n",
      "/kaggle/input/hymenoptera/hymenoptera/train/ants/154124431_65460430f2.jpg\n",
      "/kaggle/input/hymenoptera/hymenoptera/train/ants/392382602_1b7bed32fa.jpg\n",
      "/kaggle/input/hymenoptera/hymenoptera/train/ants/6240329_72c01e663e.jpg\n",
      "/kaggle/input/hymenoptera/hymenoptera/train/ants/1924473702_daa9aacdbe.jpg\n",
      "/kaggle/input/hymenoptera/hymenoptera/train/ants/69639610_95e0de17aa.jpg\n",
      "/kaggle/input/hymenoptera/hymenoptera/train/ants/1262877379_64fcada201.jpg\n",
      "/kaggle/input/hymenoptera/hymenoptera/train/ants/258217966_d9d90d18d3.jpg\n",
      "/kaggle/input/hymenoptera/hymenoptera/train/ants/1269756697_0bce92cdab.jpg\n",
      "/kaggle/input/hymenoptera/hymenoptera/train/ants/2265825502_fff99cfd2d.jpg\n",
      "/kaggle/input/hymenoptera/hymenoptera/train/ants/149244013_c529578289.jpg\n",
      "/kaggle/input/hymenoptera/hymenoptera/train/ants/188552436_605cc9b36b.jpg\n",
      "/kaggle/input/hymenoptera/hymenoptera/train/ants/hormiga_co_por.jpg\n",
      "/kaggle/input/hymenoptera/hymenoptera/train/ants/82852639_52b7f7f5e3.jpg\n",
      "/kaggle/input/hymenoptera/hymenoptera/train/ants/540889389_48bb588b21.jpg\n",
      "/kaggle/input/hymenoptera/hymenoptera/train/ants/535522953_308353a07c.jpg\n",
      "/kaggle/input/hymenoptera/hymenoptera/train/ants/9715481_b3cb4114ff.jpg\n",
      "/kaggle/input/hymenoptera/hymenoptera/train/ants/formica.jpeg\n",
      "/kaggle/input/hymenoptera/hymenoptera/train/ants/275429470_b2d7d9290b.jpg\n",
      "/kaggle/input/hymenoptera/hymenoptera/train/ants/Nepenthes_rafflesiana_ant.jpg\n",
      "/kaggle/input/hymenoptera/hymenoptera/train/ants/998118368_6ac1d91f81.jpg\n",
      "/kaggle/input/hymenoptera/hymenoptera/train/ants/707895295_009cf23188.jpg\n",
      "/kaggle/input/hymenoptera/hymenoptera/train/ants/1360291657_dc248c5eea.jpg\n",
      "/kaggle/input/hymenoptera/hymenoptera/train/ants/45472593_bfd624f8dc.jpg\n",
      "/kaggle/input/hymenoptera/hymenoptera/train/ants/2288450226_a6e96e8fdf.jpg\n",
      "/kaggle/input/hymenoptera/hymenoptera/train/ants/424119020_6d57481dab.jpg\n",
      "/kaggle/input/hymenoptera/hymenoptera/train/ants/484293231_e53cfc0c89.jpg\n",
      "/kaggle/input/hymenoptera/hymenoptera/train/ants/342438950_a3da61deab.jpg\n",
      "/kaggle/input/hymenoptera/hymenoptera/train/ants/1030023514_aad5c608f9.jpg\n",
      "/kaggle/input/hymenoptera/hymenoptera/train/ants/67270775_e9fdf77e9d.jpg\n",
      "/kaggle/input/hymenoptera/hymenoptera/train/ants/460874319_0a45ab4d05.jpg\n",
      "/kaggle/input/hymenoptera/hymenoptera/train/ants/662541407_ff8db781e7.jpg\n",
      "/kaggle/input/hymenoptera/hymenoptera/train/ants/841049277_b28e58ad05.jpg\n",
      "/kaggle/input/hymenoptera/hymenoptera/train/ants/386190770_672743c9a7.jpg\n",
      "/kaggle/input/hymenoptera/hymenoptera/train/ants/318052216_84dff3f98a.jpg\n",
      "/kaggle/input/hymenoptera/hymenoptera/train/ants/384191229_5779cf591b.jpg\n",
      "/kaggle/input/hymenoptera/hymenoptera/train/ants/36439863_0bec9f554f.jpg\n",
      "/kaggle/input/hymenoptera/hymenoptera/train/ants/0013035.jpg\n",
      "/kaggle/input/hymenoptera/hymenoptera/train/ants/167890289_dd5ba923f3.jpg\n",
      "/kaggle/input/hymenoptera/hymenoptera/train/ants/531979952_bde12b3bc0.jpg\n",
      "/kaggle/input/hymenoptera/hymenoptera/train/ants/543417860_b14237f569.jpg\n",
      "/kaggle/input/hymenoptera/hymenoptera/train/ants/450057712_771b3bfc91.jpg\n",
      "/kaggle/input/hymenoptera/hymenoptera/train/ants/2292213964_ca51ce4bef.jpg\n",
      "/kaggle/input/hymenoptera/hymenoptera/train/ants/ant photos.jpg\n",
      "/kaggle/input/hymenoptera/hymenoptera/train/ants/6743948_2b8c096dda.jpg\n",
      "/kaggle/input/hymenoptera/hymenoptera/train/ants/28847243_e79fe052cd.jpg\n",
      "/kaggle/input/hymenoptera/hymenoptera/train/ants/1917341202_d00a7f9af5.jpg\n",
      "/kaggle/input/hymenoptera/hymenoptera/train/ants/2288481644_83ff7e4572.jpg\n",
      "/kaggle/input/hymenoptera/hymenoptera/train/ants/162603798_40b51f1654.jpg\n",
      "/kaggle/input/hymenoptera/hymenoptera/train/ants/518773929_734dbc5ff4.jpg\n",
      "/kaggle/input/hymenoptera/hymenoptera/train/ants/201790779_527f4c0168.jpg\n",
      "/kaggle/input/hymenoptera/hymenoptera/train/ants/957233405_25c1d1187b.jpg\n",
      "/kaggle/input/hymenoptera/hymenoptera/train/ants/2019439677_2db655d361.jpg\n",
      "/kaggle/input/hymenoptera/hymenoptera/train/ants/148715752_302c84f5a4.jpg\n",
      "/kaggle/input/hymenoptera/hymenoptera/train/ants/1473187633_63ccaacea6.jpg\n",
      "/kaggle/input/hymenoptera/hymenoptera/train/ants/1099452230_d1949d3250.jpg\n",
      "/kaggle/input/hymenoptera/hymenoptera/train/ants/49375974_e28ba6f17e.jpg\n",
      "/kaggle/input/hymenoptera/hymenoptera/train/ants/512164029_c0a66b8498.jpg\n",
      "/kaggle/input/hymenoptera/hymenoptera/train/ants/1095476100_3906d8afde.jpg\n",
      "/kaggle/input/hymenoptera/hymenoptera/train/ants/army-ants-red-picture.jpg\n",
      "/kaggle/input/hymenoptera/hymenoptera/train/ants/1660097129_384bf54490.jpg\n",
      "/kaggle/input/hymenoptera/hymenoptera/train/ants/459694881_ac657d3187.jpg\n",
      "/kaggle/input/hymenoptera/hymenoptera/train/ants/475961153_b8c13fd405.jpg\n",
      "/kaggle/input/hymenoptera/hymenoptera/train/ants/522415432_2218f34bf8.jpg\n",
      "/kaggle/input/hymenoptera/hymenoptera/train/ants/1804095607_0341701e1c.jpg\n",
      "/kaggle/input/hymenoptera/hymenoptera/train/ants/MehdiabadiAnt2_600.jpg\n",
      "/kaggle/input/hymenoptera/hymenoptera/train/ants/imageNotFound.gif\n",
      "/kaggle/input/hymenoptera/hymenoptera/train/ants/245647475_9523dfd13e.jpg\n",
      "/kaggle/input/hymenoptera/hymenoptera/train/ants/506249802_207cd979b4.jpg\n",
      "/kaggle/input/hymenoptera/hymenoptera/train/ants/334167043_cbd1adaeb9.jpg\n",
      "/kaggle/input/hymenoptera/hymenoptera/train/ants/474806473_ca6caab245.jpg\n",
      "/kaggle/input/hymenoptera/hymenoptera/train/ants/175998972.jpg\n",
      "/kaggle/input/hymenoptera/hymenoptera/train/ants/150801171_cd86f17ed8.jpg\n",
      "/kaggle/input/hymenoptera/hymenoptera/train/ants/6240338_93729615ec.jpg\n",
      "/kaggle/input/hymenoptera/hymenoptera/train/ants/kurokusa.jpg\n",
      "/kaggle/input/hymenoptera/hymenoptera/train/ants/466430434_4000737de9.jpg\n",
      "/kaggle/input/hymenoptera/hymenoptera/train/ants/822537660_caf4ba5514.jpg\n",
      "/kaggle/input/hymenoptera/hymenoptera/train/ants/382971067_0bfd33afe0.jpg\n",
      "/kaggle/input/hymenoptera/hymenoptera/train/ants/termite-vs-ant.jpg\n",
      "/kaggle/input/hymenoptera/hymenoptera/train/ants/533848102_70a85ad6dd.jpg\n",
      "/kaggle/input/hymenoptera/hymenoptera/train/ants/1368913450_e146e2fb6d.jpg\n",
      "/kaggle/input/hymenoptera/hymenoptera/train/ants/VietnameseAntMimicSpider.jpg\n",
      "/kaggle/input/hymenoptera/hymenoptera/train/bees/2722592222_258d473e17.jpg\n",
      "/kaggle/input/hymenoptera/hymenoptera/train/bees/1295655112_7813f37d21.jpg\n",
      "/kaggle/input/hymenoptera/hymenoptera/train/bees/3044402684_3853071a87.jpg\n",
      "/kaggle/input/hymenoptera/hymenoptera/train/bees/421515404_e87569fd8b.jpg\n",
      "/kaggle/input/hymenoptera/hymenoptera/train/bees/2601176055_8464e6aa71.jpg\n",
      "/kaggle/input/hymenoptera/hymenoptera/train/bees/2364597044_3c3e3fc391.jpg\n",
      "/kaggle/input/hymenoptera/hymenoptera/train/bees/3030772428_8578335616.jpg\n",
      "/kaggle/input/hymenoptera/hymenoptera/train/bees/39672681_1302d204d1.jpg\n",
      "/kaggle/input/hymenoptera/hymenoptera/train/bees/452462695_40a4e5b559.jpg\n",
      "/kaggle/input/hymenoptera/hymenoptera/train/bees/129236073_0985e91c7d.jpg\n",
      "/kaggle/input/hymenoptera/hymenoptera/train/bees/205835650_e6f2614bee.jpg\n",
      "/kaggle/input/hymenoptera/hymenoptera/train/bees/2781170484_5d61835d63.jpg\n",
      "/kaggle/input/hymenoptera/hymenoptera/train/bees/2634617358_f32fd16bea.jpg\n",
      "/kaggle/input/hymenoptera/hymenoptera/train/bees/873076652_eb098dab2d.jpg\n",
      "/kaggle/input/hymenoptera/hymenoptera/train/bees/2227611847_ec72d40403.jpg\n",
      "/kaggle/input/hymenoptera/hymenoptera/train/bees/1508176360_2972117c9d.jpg\n",
      "/kaggle/input/hymenoptera/hymenoptera/train/bees/2610833167_79bf0bcae5.jpg\n",
      "/kaggle/input/hymenoptera/hymenoptera/train/bees/2801728106_833798c909.jpg\n",
      "/kaggle/input/hymenoptera/hymenoptera/train/bees/2652877533_a564830cbf.jpg\n",
      "/kaggle/input/hymenoptera/hymenoptera/train/bees/522104315_5d3cb2758e.jpg\n",
      "/kaggle/input/hymenoptera/hymenoptera/train/bees/1092977343_cb42b38d62.jpg\n",
      "/kaggle/input/hymenoptera/hymenoptera/train/bees/154600396_53e1252e52.jpg\n",
      "/kaggle/input/hymenoptera/hymenoptera/train/bees/2710368626_cb42882dc8.jpg\n",
      "/kaggle/input/hymenoptera/hymenoptera/train/bees/457457145_5f86eb7e9c.jpg\n",
      "/kaggle/input/hymenoptera/hymenoptera/train/bees/509247772_2db2d01374.jpg\n",
      "/kaggle/input/hymenoptera/hymenoptera/train/bees/2704348794_eb5d5178c2.jpg\n",
      "/kaggle/input/hymenoptera/hymenoptera/train/bees/29494643_e3410f0d37.jpg\n",
      "/kaggle/input/hymenoptera/hymenoptera/train/bees/2908916142_a7ac8b57a8.jpg\n",
      "/kaggle/input/hymenoptera/hymenoptera/train/bees/969455125_58c797ef17.jpg\n",
      "/kaggle/input/hymenoptera/hymenoptera/train/bees/2551813042_8a070aeb2b.jpg\n",
      "/kaggle/input/hymenoptera/hymenoptera/train/bees/2617161745_fa3ebe85b4.jpg\n",
      "/kaggle/input/hymenoptera/hymenoptera/train/bees/132826773_dbbcb117b9.jpg\n",
      "/kaggle/input/hymenoptera/hymenoptera/train/bees/465133211_80e0c27f60.jpg\n",
      "/kaggle/input/hymenoptera/hymenoptera/train/bees/98391118_bdb1e80cce.jpg\n",
      "/kaggle/input/hymenoptera/hymenoptera/train/bees/95238259_98470c5b10.jpg\n",
      "/kaggle/input/hymenoptera/hymenoptera/train/bees/2470492904_837e97800d.jpg\n",
      "/kaggle/input/hymenoptera/hymenoptera/train/bees/2638074627_6b3ae746a0.jpg\n",
      "/kaggle/input/hymenoptera/hymenoptera/train/bees/354167719_22dca13752.jpg\n",
      "/kaggle/input/hymenoptera/hymenoptera/train/bees/2031225713_50ed499635.jpg\n",
      "/kaggle/input/hymenoptera/hymenoptera/train/bees/198508668_97d818b6c4.jpg\n",
      "/kaggle/input/hymenoptera/hymenoptera/train/bees/2962405283_22718d9617.jpg\n",
      "/kaggle/input/hymenoptera/hymenoptera/train/bees/85112639_6e860b0469.jpg\n",
      "/kaggle/input/hymenoptera/hymenoptera/train/bees/444532809_9e931e2279.jpg\n",
      "/kaggle/input/hymenoptera/hymenoptera/train/bees/760526046_547e8b381f.jpg\n",
      "/kaggle/input/hymenoptera/hymenoptera/train/bees/1807583459_4fe92b3133.jpg\n",
      "/kaggle/input/hymenoptera/hymenoptera/train/bees/2053200300_8911ef438a.jpg\n",
      "/kaggle/input/hymenoptera/hymenoptera/train/bees/2625499656_e3415e374d.jpg\n",
      "/kaggle/input/hymenoptera/hymenoptera/train/bees/2467959963_a7831e9ff0.jpg\n",
      "/kaggle/input/hymenoptera/hymenoptera/train/bees/446296270_d9e8b93ecf.jpg\n",
      "/kaggle/input/hymenoptera/hymenoptera/train/bees/2683605182_9d2a0c66cf.jpg\n",
      "/kaggle/input/hymenoptera/hymenoptera/train/bees/196658222_3fffd79c67.jpg\n",
      "/kaggle/input/hymenoptera/hymenoptera/train/bees/174142798_e5ad6d76e0.jpg\n",
      "/kaggle/input/hymenoptera/hymenoptera/train/bees/1097045929_1753d1c765.jpg\n",
      "/kaggle/input/hymenoptera/hymenoptera/train/bees/2707440199_cd170bd512.jpg\n",
      "/kaggle/input/hymenoptera/hymenoptera/train/bees/2358061370_9daabbd9ac.jpg\n",
      "/kaggle/input/hymenoptera/hymenoptera/train/bees/17209602_fe5a5a746f.jpg\n",
      "/kaggle/input/hymenoptera/hymenoptera/train/bees/2861002136_52c7c6f708.jpg\n",
      "/kaggle/input/hymenoptera/hymenoptera/train/bees/1232245714_f862fbe385.jpg\n",
      "/kaggle/input/hymenoptera/hymenoptera/train/bees/266644509_d30bb16a1b.jpg\n",
      "/kaggle/input/hymenoptera/hymenoptera/train/bees/507288830_f46e8d4cb2.jpg\n",
      "/kaggle/input/hymenoptera/hymenoptera/train/bees/472288710_2abee16fa0.jpg\n",
      "/kaggle/input/hymenoptera/hymenoptera/train/bees/2528444139_fa728b0f5b.jpg\n",
      "/kaggle/input/hymenoptera/hymenoptera/train/bees/2445215254_51698ff797.jpg\n",
      "/kaggle/input/hymenoptera/hymenoptera/train/bees/760568592_45a52c847f.jpg\n",
      "/kaggle/input/hymenoptera/hymenoptera/train/bees/150013791_969d9a968b.jpg\n",
      "/kaggle/input/hymenoptera/hymenoptera/train/bees/2651621464_a2fa8722eb.jpg\n",
      "/kaggle/input/hymenoptera/hymenoptera/train/bees/2728759455_ce9bb8cd7a.jpg\n",
      "/kaggle/input/hymenoptera/hymenoptera/train/bees/2495722465_879acf9d85.jpg\n",
      "/kaggle/input/hymenoptera/hymenoptera/train/bees/342758693_c56b89b6b6.jpg\n",
      "/kaggle/input/hymenoptera/hymenoptera/train/bees/473618094_8ffdcab215.jpg\n",
      "/kaggle/input/hymenoptera/hymenoptera/train/bees/92663402_37f379e57a.jpg\n",
      "/kaggle/input/hymenoptera/hymenoptera/train/bees/2037437624_2d7bce461f.jpg\n",
      "/kaggle/input/hymenoptera/hymenoptera/train/bees/16838648_415acd9e3f.jpg\n",
      "/kaggle/input/hymenoptera/hymenoptera/train/bees/2405441001_b06c36fa72.jpg\n",
      "/kaggle/input/hymenoptera/hymenoptera/train/bees/2321139806_d73d899e66.jpg\n",
      "/kaggle/input/hymenoptera/hymenoptera/train/bees/39747887_42df2855ee.jpg\n",
      "/kaggle/input/hymenoptera/hymenoptera/train/bees/3030189811_01d095b793.jpg\n",
      "/kaggle/input/hymenoptera/hymenoptera/train/bees/2397446847_04ef3cd3e1.jpg\n",
      "/kaggle/input/hymenoptera/hymenoptera/train/bees/2756397428_1d82a08807.jpg\n",
      "/kaggle/input/hymenoptera/hymenoptera/train/bees/2580598377_a4caecdb54.jpg\n",
      "/kaggle/input/hymenoptera/hymenoptera/train/bees/365759866_b15700c59b.jpg\n",
      "/kaggle/input/hymenoptera/hymenoptera/train/bees/2477349551_e75c97cf4d.jpg\n",
      "/kaggle/input/hymenoptera/hymenoptera/train/bees/2645107662_b73a8595cc.jpg\n",
      "/kaggle/input/hymenoptera/hymenoptera/train/bees/469333327_358ba8fe8a.jpg\n",
      "/kaggle/input/hymenoptera/hymenoptera/train/bees/1691282715_0addfdf5e8.jpg\n",
      "/kaggle/input/hymenoptera/hymenoptera/train/bees/3090975720_71f12e6de4.jpg\n",
      "/kaggle/input/hymenoptera/hymenoptera/train/bees/586041248_3032e277a9.jpg\n",
      "/kaggle/input/hymenoptera/hymenoptera/train/bees/90179376_abc234e5f4.jpg\n",
      "/kaggle/input/hymenoptera/hymenoptera/train/bees/2822388965_f6dca2a275.jpg\n",
      "/kaggle/input/hymenoptera/hymenoptera/train/bees/3074585407_9854eb3153.jpg\n",
      "/kaggle/input/hymenoptera/hymenoptera/train/bees/2792000093_e8ae0718cf.jpg\n",
      "/kaggle/input/hymenoptera/hymenoptera/train/bees/2959730355_416a18c63c.jpg\n",
      "/kaggle/input/hymenoptera/hymenoptera/train/bees/359928878_b3b418c728.jpg\n",
      "/kaggle/input/hymenoptera/hymenoptera/train/bees/537309131_532bfa59ea.jpg\n",
      "/kaggle/input/hymenoptera/hymenoptera/train/bees/2384149906_2cd8b0b699.jpg\n",
      "/kaggle/input/hymenoptera/hymenoptera/train/bees/2486729079_62df0920be.jpg\n",
      "/kaggle/input/hymenoptera/hymenoptera/train/bees/196430254_46bd129ae7.jpg\n",
      "/kaggle/input/hymenoptera/hymenoptera/train/bees/279113587_b4843db199.jpg\n",
      "/kaggle/input/hymenoptera/hymenoptera/train/bees/1093831624_fb5fbe2308.jpg\n",
      "/kaggle/input/hymenoptera/hymenoptera/train/bees/36900412_92b81831ad.jpg\n",
      "/kaggle/input/hymenoptera/hymenoptera/train/bees/2486746709_c43cec0e42.jpg\n",
      "/kaggle/input/hymenoptera/hymenoptera/train/bees/478701318_bbd5e557b8.jpg\n",
      "/kaggle/input/hymenoptera/hymenoptera/train/bees/208702903_42fb4d9748.jpg\n",
      "/kaggle/input/hymenoptera/hymenoptera/train/bees/2493379287_4100e1dacc.jpg\n",
      "/kaggle/input/hymenoptera/hymenoptera/train/bees/774440991_63a4aa0cbe.jpg\n",
      "/kaggle/input/hymenoptera/hymenoptera/train/bees/2452236943_255bfd9e58.jpg\n",
      "/kaggle/input/hymenoptera/hymenoptera/train/bees/21399619_3e61e5bb6f.jpg\n",
      "/kaggle/input/hymenoptera/hymenoptera/train/bees/2345177635_caf07159b3.jpg\n",
      "/kaggle/input/hymenoptera/hymenoptera/train/bees/3006264892_30e9cced70.jpg\n",
      "/kaggle/input/hymenoptera/hymenoptera/train/bees/132511197_0b86ad0fff.jpg\n",
      "/kaggle/input/hymenoptera/hymenoptera/train/bees/2610838525_fe8e3cae47.jpg\n",
      "/kaggle/input/hymenoptera/hymenoptera/train/bees/2330918208_8074770c20.jpg\n",
      "/kaggle/input/hymenoptera/hymenoptera/train/bees/3100226504_c0d4f1e3f1.jpg\n",
      "/kaggle/input/hymenoptera/hymenoptera/train/bees/513545352_fd3e7c7c5d.jpg\n",
      "/kaggle/input/hymenoptera/hymenoptera/train/bees/2765347790_da6cf6cb40.jpg\n",
      "/kaggle/input/hymenoptera/hymenoptera/train/bees/452462677_7be43af8ff.jpg\n",
      "/kaggle/input/hymenoptera/hymenoptera/train/bees/2477324698_3d4b1b1cab.jpg\n",
      "/kaggle/input/hymenoptera/hymenoptera/train/bees/2538361678_9da84b77e3.jpg\n",
      "/kaggle/input/hymenoptera/hymenoptera/train/bees/476347960_52edd72b06.jpg\n",
      "/kaggle/input/hymenoptera/hymenoptera/train/bees/1799726602_8580867f71.jpg\n",
      "/kaggle/input/hymenoptera/hymenoptera/train/bees/3079610310_ac2d0ae7bc.jpg\n"
     ]
    }
   ],
   "source": [
    "# This Python 3 environment comes with many helpful analytics libraries installed\n",
    "# It is defined by the kaggle/python Docker image: https://github.com/kaggle/docker-python\n",
    "# For example, here's several helpful packages to load\n",
    "\n",
    "import numpy as np # linear algebra\n",
    "import pandas as pd # data processing, CSV file I/O (e.g. pd.read_csv)\n",
    "\n",
    "# Input data files are available in the read-only \"../input/\" directory\n",
    "# For example, running this (by clicking run or pressing Shift+Enter) will list all files under the input directory\n",
    "\n",
    "import os\n",
    "for dirname, _, filenames in os.walk('/kaggle/input'):\n",
    "    for filename in filenames:\n",
    "        print(os.path.join(dirname, filename))\n",
    "\n",
    "# You can write up to 20GB to the current directory (/kaggle/working/) that gets preserved as output when you create a version using \"Save & Run All\" \n",
    "# You can also write temporary files to /kaggle/temp/, but they won't be saved outside of the current session"
   ]
  },
  {
   "cell_type": "code",
   "execution_count": 2,
   "id": "98e12fe1",
   "metadata": {
    "execution": {
     "iopub.execute_input": "2024-10-16T14:56:43.099622Z",
     "iopub.status.busy": "2024-10-16T14:56:43.099069Z",
     "iopub.status.idle": "2024-10-16T14:57:01.463677Z",
     "shell.execute_reply": "2024-10-16T14:57:01.462415Z"
    },
    "papermill": {
     "duration": 18.377105,
     "end_time": "2024-10-16T14:57:01.466453",
     "exception": false,
     "start_time": "2024-10-16T14:56:43.089348",
     "status": "completed"
    },
    "tags": []
   },
   "outputs": [],
   "source": [
    "from skimage.transform import resize\n",
    "from skimage.io import imread\n",
    "from keras.models import Sequential\n",
    "from keras.layers import Conv2D,Dense,MaxPool2D,Flatten\n",
    "\n",
    "import matplotlib.pyplot as plt\n",
    "import seaborn as sns"
   ]
  },
  {
   "cell_type": "code",
   "execution_count": 3,
   "id": "5ec764fa",
   "metadata": {
    "execution": {
     "iopub.execute_input": "2024-10-16T14:57:01.485171Z",
     "iopub.status.busy": "2024-10-16T14:57:01.484455Z",
     "iopub.status.idle": "2024-10-16T14:57:01.493553Z",
     "shell.execute_reply": "2024-10-16T14:57:01.492370Z"
    },
    "papermill": {
     "duration": 0.021242,
     "end_time": "2024-10-16T14:57:01.496085",
     "exception": false,
     "start_time": "2024-10-16T14:57:01.474843",
     "status": "completed"
    },
    "tags": []
   },
   "outputs": [
    {
     "data": {
      "text/plain": [
       "['ants', 'bees']"
      ]
     },
     "execution_count": 3,
     "metadata": {},
     "output_type": "execute_result"
    }
   ],
   "source": [
    "datadir='/kaggle/input/hymenoptera/hymenoptera/train'\n",
    "os.listdir(datadir)"
   ]
  },
  {
   "cell_type": "code",
   "execution_count": 4,
   "id": "3a308272",
   "metadata": {
    "execution": {
     "iopub.execute_input": "2024-10-16T14:57:01.514565Z",
     "iopub.status.busy": "2024-10-16T14:57:01.514146Z",
     "iopub.status.idle": "2024-10-16T14:57:10.159641Z",
     "shell.execute_reply": "2024-10-16T14:57:10.158197Z"
    },
    "papermill": {
     "duration": 8.657573,
     "end_time": "2024-10-16T14:57:10.162063",
     "exception": false,
     "start_time": "2024-10-16T14:57:01.504490",
     "status": "completed"
    },
    "tags": []
   },
   "outputs": [
    {
     "name": "stdout",
     "output_type": "stream",
     "text": [
      "Loaded..... ants\n",
      "Loaded..... bees\n"
     ]
    }
   ],
   "source": [
    "X_train=[]\n",
    "y_train=[]\n",
    "categories=['ants', 'bees']\n",
    "for category in categories: \n",
    "    path=os.path.join(datadir,category)\n",
    "    images=os.listdir(path)\n",
    "    for img in images:\n",
    "        imgpath=os.path.join(path,img)\n",
    "        img_array=imread(imgpath)\n",
    "        img_resized=resize(img_array,(150,150,1))\n",
    "        X_train.append(img_resized)\n",
    "        y_train.append(categories.index(category))\n",
    "    print(\"Loaded.....\",category)"
   ]
  },
  {
   "cell_type": "code",
   "execution_count": 5,
   "id": "6682dc9a",
   "metadata": {
    "execution": {
     "iopub.execute_input": "2024-10-16T14:57:10.181064Z",
     "iopub.status.busy": "2024-10-16T14:57:10.180599Z",
     "iopub.status.idle": "2024-10-16T14:57:10.187549Z",
     "shell.execute_reply": "2024-10-16T14:57:10.186560Z"
    },
    "papermill": {
     "duration": 0.018974,
     "end_time": "2024-10-16T14:57:10.189884",
     "exception": false,
     "start_time": "2024-10-16T14:57:10.170910",
     "status": "completed"
    },
    "tags": []
   },
   "outputs": [
    {
     "data": {
      "text/plain": [
       "'/kaggle/input/hymenoptera/hymenoptera/val'"
      ]
     },
     "execution_count": 5,
     "metadata": {},
     "output_type": "execute_result"
    }
   ],
   "source": [
    "datadir='/kaggle/input/hymenoptera/hymenoptera/val'\n",
    "datadir"
   ]
  },
  {
   "cell_type": "code",
   "execution_count": 6,
   "id": "a3dd8f0a",
   "metadata": {
    "execution": {
     "iopub.execute_input": "2024-10-16T14:57:10.209883Z",
     "iopub.status.busy": "2024-10-16T14:57:10.209428Z",
     "iopub.status.idle": "2024-10-16T14:57:16.787474Z",
     "shell.execute_reply": "2024-10-16T14:57:16.786197Z"
    },
    "papermill": {
     "duration": 6.591533,
     "end_time": "2024-10-16T14:57:16.790104",
     "exception": false,
     "start_time": "2024-10-16T14:57:10.198571",
     "status": "completed"
    },
    "tags": []
   },
   "outputs": [
    {
     "name": "stdout",
     "output_type": "stream",
     "text": [
      "Loaded.... ants\n",
      "Loaded.... bees\n"
     ]
    }
   ],
   "source": [
    "X_test=[]\n",
    "y_test=[]\n",
    "categories=['ants', 'bees']\n",
    "for category in categories:\n",
    "    path=os.path.join(datadir,category)\n",
    "    images=os.listdir(path)\n",
    "    for img in images:\n",
    "        imgpath=os.path.join(path,img)\n",
    "        img_array=imread(imgpath)\n",
    "        img_resized=resize(img_array,(150,150,1))\n",
    "        X_test.append(img_resized)\n",
    "        y_test.append(categories.index(category))\n",
    "    print(\"Loaded....\",category)"
   ]
  },
  {
   "cell_type": "code",
   "execution_count": 7,
   "id": "d5f90d4f",
   "metadata": {
    "execution": {
     "iopub.execute_input": "2024-10-16T14:57:16.809948Z",
     "iopub.status.busy": "2024-10-16T14:57:16.809093Z",
     "iopub.status.idle": "2024-10-16T14:57:16.819112Z",
     "shell.execute_reply": "2024-10-16T14:57:16.817924Z"
    },
    "papermill": {
     "duration": 0.023954,
     "end_time": "2024-10-16T14:57:16.822953",
     "exception": false,
     "start_time": "2024-10-16T14:57:16.798999",
     "status": "completed"
    },
    "tags": []
   },
   "outputs": [
    {
     "name": "stdout",
     "output_type": "stream",
     "text": [
      "Sample 0 shape: (150, 150, 1)\n",
      "Sample 1 shape: (150, 150, 1)\n",
      "Sample 2 shape: (150, 150, 1)\n",
      "Sample 3 shape: (150, 150, 1)\n",
      "Sample 4 shape: (150, 150, 1)\n",
      "Sample 5 shape: (150, 150, 1)\n",
      "Sample 6 shape: (150, 150, 1)\n",
      "Sample 7 shape: (150, 150, 1)\n",
      "Sample 8 shape: (150, 150, 1)\n",
      "Sample 9 shape: (150, 150, 1)\n",
      "Sample 10 shape: (150, 150, 1)\n",
      "Sample 11 shape: (150, 150, 1)\n",
      "Sample 12 shape: (150, 150, 1)\n",
      "Sample 13 shape: (150, 150, 1)\n",
      "Sample 14 shape: (150, 150, 1)\n",
      "Sample 15 shape: (150, 150, 1)\n",
      "Sample 16 shape: (150, 150, 1)\n",
      "Sample 17 shape: (150, 150, 1)\n",
      "Sample 18 shape: (150, 150, 1)\n",
      "Sample 19 shape: (150, 150, 1)\n",
      "Sample 20 shape: (150, 150, 1)\n",
      "Sample 21 shape: (150, 150, 1)\n",
      "Sample 22 shape: (150, 150, 1)\n",
      "Sample 23 shape: (150, 150, 1)\n",
      "Sample 24 shape: (150, 150, 1)\n",
      "Sample 25 shape: (150, 150, 1)\n",
      "Sample 26 shape: (150, 150, 1)\n",
      "Sample 27 shape: (150, 150, 1)\n",
      "Sample 28 shape: (150, 150, 1)\n",
      "Sample 29 shape: (150, 150, 1)\n",
      "Sample 30 shape: (150, 150, 1)\n",
      "Sample 31 shape: (150, 150, 1)\n",
      "Sample 32 shape: (150, 150, 1)\n",
      "Sample 33 shape: (150, 150, 1)\n",
      "Sample 34 shape: (150, 150, 1)\n",
      "Sample 35 shape: (150, 150, 1)\n",
      "Sample 36 shape: (150, 150, 1)\n",
      "Sample 37 shape: (150, 150, 1)\n",
      "Sample 38 shape: (150, 150, 1)\n",
      "Sample 39 shape: (150, 150, 1)\n",
      "Sample 40 shape: (150, 150, 1)\n",
      "Sample 41 shape: (150, 150, 1)\n",
      "Sample 42 shape: (150, 150, 1)\n",
      "Sample 43 shape: (150, 150, 1)\n",
      "Sample 44 shape: (150, 150, 1)\n",
      "Sample 45 shape: (150, 150, 1)\n",
      "Sample 46 shape: (150, 150, 1)\n",
      "Sample 47 shape: (150, 150, 1)\n",
      "Sample 48 shape: (150, 150, 1)\n",
      "Sample 49 shape: (150, 150, 1)\n",
      "Sample 50 shape: (150, 150, 1)\n",
      "Sample 51 shape: (150, 150, 1)\n",
      "Sample 52 shape: (150, 150, 1)\n",
      "Sample 53 shape: (150, 150, 1)\n",
      "Sample 54 shape: (150, 150, 1)\n",
      "Sample 55 shape: (150, 150, 1)\n",
      "Sample 56 shape: (150, 150, 1)\n",
      "Sample 57 shape: (150, 150, 1)\n",
      "Sample 58 shape: (150, 150, 1)\n",
      "Sample 59 shape: (150, 150, 1)\n",
      "Sample 60 shape: (150, 150, 1)\n",
      "Sample 61 shape: (150, 150, 1)\n",
      "Sample 62 shape: (150, 150, 1)\n",
      "Sample 63 shape: (150, 150, 1)\n",
      "Sample 64 shape: (150, 150, 1)\n",
      "Sample 65 shape: (150, 150, 1)\n",
      "Sample 66 shape: (150, 150, 1)\n",
      "Sample 67 shape: (150, 150, 1)\n",
      "Sample 68 shape: (150, 150, 1)\n",
      "Sample 69 shape: (150, 150, 1)\n",
      "Sample 70 shape: (150, 150, 1)\n",
      "Sample 71 shape: (150, 150, 1)\n",
      "Sample 72 shape: (150, 150, 1)\n",
      "Sample 73 shape: (150, 150, 1)\n",
      "Sample 74 shape: (150, 150, 1)\n",
      "Sample 75 shape: (150, 150, 1)\n",
      "Sample 76 shape: (150, 150, 1)\n",
      "Sample 77 shape: (150, 150, 1)\n",
      "Sample 78 shape: (150, 150, 1)\n",
      "Sample 79 shape: (150, 150, 1)\n",
      "Sample 80 shape: (150, 150, 1)\n",
      "Sample 81 shape: (150, 150, 1)\n",
      "Sample 82 shape: (150, 150, 1)\n",
      "Sample 83 shape: (150, 150, 1)\n",
      "Sample 84 shape: (150, 150, 1)\n",
      "Sample 85 shape: (150, 150, 1)\n",
      "Sample 86 shape: (150, 150, 1)\n",
      "Sample 87 shape: (150, 150, 1)\n",
      "Sample 88 shape: (150, 150, 1)\n",
      "Sample 89 shape: (150, 150, 1)\n",
      "Sample 90 shape: (150, 150, 1)\n",
      "Sample 91 shape: (150, 150, 1)\n",
      "Sample 92 shape: (150, 150, 1)\n",
      "Sample 93 shape: (150, 150, 1)\n",
      "Sample 94 shape: (150, 150, 1)\n",
      "Sample 95 shape: (150, 150, 1)\n",
      "Sample 96 shape: (150, 150, 1)\n",
      "Sample 97 shape: (150, 150, 1)\n",
      "Sample 98 shape: (150, 150, 1)\n",
      "Sample 99 shape: (150, 150, 1)\n",
      "Sample 100 shape: (150, 150, 1)\n",
      "Sample 101 shape: (150, 150, 1)\n",
      "Sample 102 shape: (150, 150, 1)\n",
      "Sample 103 shape: (150, 150, 1)\n",
      "Sample 104 shape: (150, 150, 1)\n",
      "Sample 105 shape: (150, 150, 1)\n",
      "Sample 106 shape: (150, 150, 1)\n",
      "Sample 107 shape: (150, 150, 1)\n",
      "Sample 108 shape: (150, 150, 1, 3)\n",
      "Sample 109 shape: (150, 150, 1)\n",
      "Sample 110 shape: (150, 150, 1)\n",
      "Sample 111 shape: (150, 150, 1)\n",
      "Sample 112 shape: (150, 150, 1)\n",
      "Sample 113 shape: (150, 150, 1)\n",
      "Sample 114 shape: (150, 150, 1)\n",
      "Sample 115 shape: (150, 150, 1)\n",
      "Sample 116 shape: (150, 150, 1)\n",
      "Sample 117 shape: (150, 150, 1)\n",
      "Sample 118 shape: (150, 150, 1)\n",
      "Sample 119 shape: (150, 150, 1)\n",
      "Sample 120 shape: (150, 150, 1)\n",
      "Sample 121 shape: (150, 150, 1)\n",
      "Sample 122 shape: (150, 150, 1)\n",
      "Sample 123 shape: (150, 150, 1)\n",
      "Sample 124 shape: (150, 150, 1)\n",
      "Sample 125 shape: (150, 150, 1)\n",
      "Sample 126 shape: (150, 150, 1)\n",
      "Sample 127 shape: (150, 150, 1)\n",
      "Sample 128 shape: (150, 150, 1)\n",
      "Sample 129 shape: (150, 150, 1)\n",
      "Sample 130 shape: (150, 150, 1)\n",
      "Sample 131 shape: (150, 150, 1)\n",
      "Sample 132 shape: (150, 150, 1)\n",
      "Sample 133 shape: (150, 150, 1)\n",
      "Sample 134 shape: (150, 150, 1)\n",
      "Sample 135 shape: (150, 150, 1)\n",
      "Sample 136 shape: (150, 150, 1)\n",
      "Sample 137 shape: (150, 150, 1)\n",
      "Sample 138 shape: (150, 150, 1)\n",
      "Sample 139 shape: (150, 150, 1)\n",
      "Sample 140 shape: (150, 150, 1)\n",
      "Sample 141 shape: (150, 150, 1)\n",
      "Sample 142 shape: (150, 150, 1)\n",
      "Sample 143 shape: (150, 150, 1)\n",
      "Sample 144 shape: (150, 150, 1)\n",
      "Sample 145 shape: (150, 150, 1)\n",
      "Sample 146 shape: (150, 150, 1)\n",
      "Sample 147 shape: (150, 150, 1)\n",
      "Sample 148 shape: (150, 150, 1)\n",
      "Sample 149 shape: (150, 150, 1)\n",
      "Sample 150 shape: (150, 150, 1)\n",
      "Sample 151 shape: (150, 150, 1)\n",
      "Sample 152 shape: (150, 150, 1)\n",
      "Sample 153 shape: (150, 150, 1)\n",
      "Sample 154 shape: (150, 150, 1)\n",
      "Sample 155 shape: (150, 150, 1)\n",
      "Sample 156 shape: (150, 150, 1)\n",
      "Sample 157 shape: (150, 150, 1)\n",
      "Sample 158 shape: (150, 150, 1)\n",
      "Sample 159 shape: (150, 150, 1)\n",
      "Sample 160 shape: (150, 150, 1)\n",
      "Sample 161 shape: (150, 150, 1)\n",
      "Sample 162 shape: (150, 150, 1)\n",
      "Sample 163 shape: (150, 150, 1)\n",
      "Sample 164 shape: (150, 150, 1)\n",
      "Sample 165 shape: (150, 150, 1)\n",
      "Sample 166 shape: (150, 150, 1)\n",
      "Sample 167 shape: (150, 150, 1)\n",
      "Sample 168 shape: (150, 150, 1)\n",
      "Sample 169 shape: (150, 150, 1)\n",
      "Sample 170 shape: (150, 150, 1)\n",
      "Sample 171 shape: (150, 150, 1)\n",
      "Sample 172 shape: (150, 150, 1)\n",
      "Sample 173 shape: (150, 150, 1)\n",
      "Sample 174 shape: (150, 150, 1)\n",
      "Sample 175 shape: (150, 150, 1)\n",
      "Sample 176 shape: (150, 150, 1)\n",
      "Sample 177 shape: (150, 150, 1)\n",
      "Sample 178 shape: (150, 150, 1)\n",
      "Sample 179 shape: (150, 150, 1)\n",
      "Sample 180 shape: (150, 150, 1)\n",
      "Sample 181 shape: (150, 150, 1)\n",
      "Sample 182 shape: (150, 150, 1)\n",
      "Sample 183 shape: (150, 150, 1)\n",
      "Sample 184 shape: (150, 150, 1)\n",
      "Sample 185 shape: (150, 150, 1)\n",
      "Sample 186 shape: (150, 150, 1)\n",
      "Sample 187 shape: (150, 150, 1)\n",
      "Sample 188 shape: (150, 150, 1)\n",
      "Sample 189 shape: (150, 150, 1)\n",
      "Sample 190 shape: (150, 150, 1)\n",
      "Sample 191 shape: (150, 150, 1)\n",
      "Sample 192 shape: (150, 150, 1)\n",
      "Sample 193 shape: (150, 150, 1)\n",
      "Sample 194 shape: (150, 150, 1)\n",
      "Sample 195 shape: (150, 150, 1)\n",
      "Sample 196 shape: (150, 150, 1)\n",
      "Sample 197 shape: (150, 150, 1)\n",
      "Sample 198 shape: (150, 150, 1)\n",
      "Sample 199 shape: (150, 150, 1)\n",
      "Sample 200 shape: (150, 150, 1)\n",
      "Sample 201 shape: (150, 150, 1)\n",
      "Sample 202 shape: (150, 150, 1)\n",
      "Sample 203 shape: (150, 150, 1)\n",
      "Sample 204 shape: (150, 150, 1)\n",
      "Sample 205 shape: (150, 150, 1)\n",
      "Sample 206 shape: (150, 150, 1)\n",
      "Sample 207 shape: (150, 150, 1)\n",
      "Sample 208 shape: (150, 150, 1)\n",
      "Sample 209 shape: (150, 150, 1)\n",
      "Sample 210 shape: (150, 150, 1)\n",
      "Sample 211 shape: (150, 150, 1)\n",
      "Sample 212 shape: (150, 150, 1)\n",
      "Sample 213 shape: (150, 150, 1)\n",
      "Sample 214 shape: (150, 150, 1)\n",
      "Sample 215 shape: (150, 150, 1)\n",
      "Sample 216 shape: (150, 150, 1)\n",
      "Sample 217 shape: (150, 150, 1)\n",
      "Sample 218 shape: (150, 150, 1)\n",
      "Sample 219 shape: (150, 150, 1)\n",
      "Sample 220 shape: (150, 150, 1)\n",
      "Sample 221 shape: (150, 150, 1)\n",
      "Sample 222 shape: (150, 150, 1)\n",
      "Sample 223 shape: (150, 150, 1)\n",
      "Sample 224 shape: (150, 150, 1)\n",
      "Sample 225 shape: (150, 150, 1)\n",
      "Sample 226 shape: (150, 150, 1)\n",
      "Sample 227 shape: (150, 150, 1)\n",
      "Sample 228 shape: (150, 150, 1)\n",
      "Sample 229 shape: (150, 150, 1)\n",
      "Sample 230 shape: (150, 150, 1)\n",
      "Sample 231 shape: (150, 150, 1)\n",
      "Sample 232 shape: (150, 150, 1)\n",
      "Sample 233 shape: (150, 150, 1)\n",
      "Sample 234 shape: (150, 150, 1)\n",
      "Sample 235 shape: (150, 150, 1)\n",
      "Sample 236 shape: (150, 150, 1)\n",
      "Sample 237 shape: (150, 150, 1)\n",
      "Sample 238 shape: (150, 150, 1)\n",
      "Sample 239 shape: (150, 150, 1)\n",
      "Sample 240 shape: (150, 150, 1)\n",
      "Sample 241 shape: (150, 150, 1)\n",
      "Sample 242 shape: (150, 150, 1)\n",
      "Sample 243 shape: (150, 150, 1)\n",
      "Sample 244 shape: (150, 150, 1)\n"
     ]
    }
   ],
   "source": [
    "for i, sample in enumerate(X_train):\n",
    "    print(f\"Sample {i} shape: {np.shape(sample)}\")"
   ]
  },
  {
   "cell_type": "code",
   "execution_count": 8,
   "id": "fdc384d5",
   "metadata": {
    "execution": {
     "iopub.execute_input": "2024-10-16T14:57:16.843664Z",
     "iopub.status.busy": "2024-10-16T14:57:16.842674Z",
     "iopub.status.idle": "2024-10-16T14:57:16.848575Z",
     "shell.execute_reply": "2024-10-16T14:57:16.847566Z"
    },
    "papermill": {
     "duration": 0.018781,
     "end_time": "2024-10-16T14:57:16.851050",
     "exception": false,
     "start_time": "2024-10-16T14:57:16.832269",
     "status": "completed"
    },
    "tags": []
   },
   "outputs": [
    {
     "name": "stdout",
     "output_type": "stream",
     "text": [
      "Sample 108 shape: (150, 150, 1, 3)\n"
     ]
    }
   ],
   "source": [
    "print(f\"Sample 108 shape: {np.shape(X_train[108])}\")"
   ]
  },
  {
   "cell_type": "code",
   "execution_count": 9,
   "id": "b829b89b",
   "metadata": {
    "execution": {
     "iopub.execute_input": "2024-10-16T14:57:16.871405Z",
     "iopub.status.busy": "2024-10-16T14:57:16.870971Z",
     "iopub.status.idle": "2024-10-16T14:57:16.876829Z",
     "shell.execute_reply": "2024-10-16T14:57:16.875747Z"
    },
    "papermill": {
     "duration": 0.019049,
     "end_time": "2024-10-16T14:57:16.879312",
     "exception": false,
     "start_time": "2024-10-16T14:57:16.860263",
     "status": "completed"
    },
    "tags": []
   },
   "outputs": [],
   "source": [
    "X_train = list(X_train)\n",
    "del X_train[108]\n",
    "y_train = np.delete(y_train, 108, axis=0)"
   ]
  },
  {
   "cell_type": "code",
   "execution_count": 10,
   "id": "7b51ad0b",
   "metadata": {
    "execution": {
     "iopub.execute_input": "2024-10-16T14:57:16.899576Z",
     "iopub.status.busy": "2024-10-16T14:57:16.899178Z",
     "iopub.status.idle": "2024-10-16T14:57:16.930747Z",
     "shell.execute_reply": "2024-10-16T14:57:16.929497Z"
    },
    "papermill": {
     "duration": 0.04494,
     "end_time": "2024-10-16T14:57:16.933459",
     "exception": false,
     "start_time": "2024-10-16T14:57:16.888519",
     "status": "completed"
    },
    "tags": []
   },
   "outputs": [],
   "source": [
    "import numpy as np\n",
    "X_train=np.array(X_train)\n",
    "X_test=np.array(X_test)\n",
    "y_train=np.array(y_train)\n",
    "y_test=np.array(y_test)"
   ]
  },
  {
   "cell_type": "code",
   "execution_count": 11,
   "id": "8e72351f",
   "metadata": {
    "execution": {
     "iopub.execute_input": "2024-10-16T14:57:16.955032Z",
     "iopub.status.busy": "2024-10-16T14:57:16.954562Z",
     "iopub.status.idle": "2024-10-16T14:57:16.961901Z",
     "shell.execute_reply": "2024-10-16T14:57:16.960771Z"
    },
    "papermill": {
     "duration": 0.020412,
     "end_time": "2024-10-16T14:57:16.964382",
     "exception": false,
     "start_time": "2024-10-16T14:57:16.943970",
     "status": "completed"
    },
    "tags": []
   },
   "outputs": [
    {
     "data": {
      "text/plain": [
       "((153, 150, 150, 1), (153,))"
      ]
     },
     "execution_count": 11,
     "metadata": {},
     "output_type": "execute_result"
    }
   ],
   "source": [
    "X_test.shape,y_test.shape"
   ]
  },
  {
   "cell_type": "code",
   "execution_count": 12,
   "id": "5aa7b3a2",
   "metadata": {
    "execution": {
     "iopub.execute_input": "2024-10-16T14:57:16.985372Z",
     "iopub.status.busy": "2024-10-16T14:57:16.984974Z",
     "iopub.status.idle": "2024-10-16T14:57:16.992491Z",
     "shell.execute_reply": "2024-10-16T14:57:16.991381Z"
    },
    "papermill": {
     "duration": 0.020689,
     "end_time": "2024-10-16T14:57:16.994932",
     "exception": false,
     "start_time": "2024-10-16T14:57:16.974243",
     "status": "completed"
    },
    "tags": []
   },
   "outputs": [
    {
     "data": {
      "text/plain": [
       "((244, 150, 150, 1), (244,))"
      ]
     },
     "execution_count": 12,
     "metadata": {},
     "output_type": "execute_result"
    }
   ],
   "source": [
    "X_train.shape,y_train.shape"
   ]
  },
  {
   "cell_type": "code",
   "execution_count": 13,
   "id": "39e172fb",
   "metadata": {
    "execution": {
     "iopub.execute_input": "2024-10-16T14:57:17.016250Z",
     "iopub.status.busy": "2024-10-16T14:57:17.015763Z",
     "iopub.status.idle": "2024-10-16T14:57:17.322533Z",
     "shell.execute_reply": "2024-10-16T14:57:17.321373Z"
    },
    "papermill": {
     "duration": 0.320381,
     "end_time": "2024-10-16T14:57:17.325004",
     "exception": false,
     "start_time": "2024-10-16T14:57:17.004623",
     "status": "completed"
    },
    "tags": []
   },
   "outputs": [
    {
     "data": {
      "image/png": "[encoded data removed]",
      "text/plain": [
       "<Figure size 1000x500 with 1 Axes>"
      ]
     },
     "metadata": {},
     "output_type": "display_data"
    }
   ],
   "source": [
    "plt.figure(figsize=(10, 5))\n",
    "sns.countplot(x=y_train)\n",
    "plt.title('Class Distribution in Training Data (0=> ants, 1=> bees)')\n",
    "plt.xlabel('Class')\n",
    "plt.ylabel('Count')\n",
    "plt.show()"
   ]
  },
  {
   "cell_type": "code",
   "execution_count": 14,
   "id": "af146536",
   "metadata": {
    "execution": {
     "iopub.execute_input": "2024-10-16T14:57:17.347358Z",
     "iopub.status.busy": "2024-10-16T14:57:17.346915Z",
     "iopub.status.idle": "2024-10-16T14:57:17.521377Z",
     "shell.execute_reply": "2024-10-16T14:57:17.519773Z"
    },
    "papermill": {
     "duration": 0.19079,
     "end_time": "2024-10-16T14:57:17.525855",
     "exception": false,
     "start_time": "2024-10-16T14:57:17.335065",
     "status": "completed"
    },
    "tags": []
   },
   "outputs": [
    {
     "data": {
      "image/png": "[encoded data removed]",
      "text/plain": [
       "<Figure size 640x480 with 1 Axes>"
      ]
     },
     "metadata": {},
     "output_type": "display_data"
    }
   ],
   "source": [
    "plt.pie([len(y_train[y_train==0]), len(y_train[y_train==1])], \n",
    "       labels=[\"Ant\", \"Bee\"], autopct=\"%1.1f%%\", shadow=True, explode=[0.1, 0])\n",
    "\n",
    "plt.title(\"Ants and Bees Percentage\")\n",
    "plt.show()"
   ]
  },
  {
   "cell_type": "code",
   "execution_count": 15,
   "id": "d0faf226",
   "metadata": {
    "execution": {
     "iopub.execute_input": "2024-10-16T14:57:17.573104Z",
     "iopub.status.busy": "2024-10-16T14:57:17.571140Z",
     "iopub.status.idle": "2024-10-16T14:57:17.720726Z",
     "shell.execute_reply": "2024-10-16T14:57:17.719448Z"
    },
    "papermill": {
     "duration": 0.176105,
     "end_time": "2024-10-16T14:57:17.723542",
     "exception": false,
     "start_time": "2024-10-16T14:57:17.547437",
     "status": "completed"
    },
    "tags": []
   },
   "outputs": [
    {
     "name": "stderr",
     "output_type": "stream",
     "text": [
      "/opt/conda/lib/python3.10/site-packages/keras/src/layers/convolutional/base_conv.py:107: UserWarning: Do not pass an `input_shape`/`input_dim` argument to a layer. When using Sequential models, prefer using an `Input(shape)` object as the first layer in the model instead.\n",
      "  super().__init__(activity_regularizer=activity_regularizer, **kwargs)\n"
     ]
    }
   ],
   "source": [
    "model=Sequential()\n",
    "model.add(Conv2D(50,(4,4),input_shape=(150,150,1),activation=\"relu\"))  \n",
    "model.add(MaxPool2D(3,3))\n",
    "model.add(Conv2D(50,(4,4),activation=\"relu\")) \n",
    "model.add(MaxPool2D(3,3))\n",
    "model.add(Flatten())\n",
    "model.add(Dense(100,activation=\"relu\"))\n",
    "model.add(Dense(2,activation=\"softmax\"))"
   ]
  },
  {
   "cell_type": "code",
   "execution_count": 16,
   "id": "293cb69c",
   "metadata": {
    "execution": {
     "iopub.execute_input": "2024-10-16T14:57:17.748138Z",
     "iopub.status.busy": "2024-10-16T14:57:17.747064Z",
     "iopub.status.idle": "2024-10-16T14:57:17.763971Z",
     "shell.execute_reply": "2024-10-16T14:57:17.762699Z"
    },
    "papermill": {
     "duration": 0.031768,
     "end_time": "2024-10-16T14:57:17.766731",
     "exception": false,
     "start_time": "2024-10-16T14:57:17.734963",
     "status": "completed"
    },
    "tags": []
   },
   "outputs": [],
   "source": [
    "model.compile(optimizer='SGD',loss='sparse_categorical_crossentropy',metrics=['accuracy'])"
   ]
  },
  {
   "cell_type": "code",
   "execution_count": 17,
   "id": "bb624d02",
   "metadata": {
    "execution": {
     "iopub.execute_input": "2024-10-16T14:57:17.789635Z",
     "iopub.status.busy": "2024-10-16T14:57:17.789195Z",
     "iopub.status.idle": "2024-10-16T14:59:25.775680Z",
     "shell.execute_reply": "2024-10-16T14:59:25.774432Z"
    },
    "papermill": {
     "duration": 128.001068,
     "end_time": "2024-10-16T14:59:25.778457",
     "exception": false,
     "start_time": "2024-10-16T14:57:17.777389",
     "status": "completed"
    },
    "tags": []
   },
   "outputs": [
    {
     "name": "stdout",
     "output_type": "stream",
     "text": [
      "Epoch 1/25\n",
      "\u001b[1m21/21\u001b[0m \u001b[32m━━━━━━━━━━━━━━━━━━━━\u001b[0m\u001b[37m\u001b[0m \u001b[1m5s\u001b[0m 216ms/step - accuracy: 0.4854 - loss: 0.6972\n",
      "Epoch 2/25\n",
      "\u001b[1m21/21\u001b[0m \u001b[32m━━━━━━━━━━━━━━━━━━━━\u001b[0m\u001b[37m\u001b[0m \u001b[1m5s\u001b[0m 244ms/step - accuracy: 0.5060 - loss: 0.6984\n",
      "Epoch 3/25\n",
      "\u001b[1m21/21\u001b[0m \u001b[32m━━━━━━━━━━━━━━━━━━━━\u001b[0m\u001b[37m\u001b[0m \u001b[1m10s\u001b[0m 214ms/step - accuracy: 0.5587 - loss: 0.6898\n",
      "Epoch 4/25\n",
      "\u001b[1m21/21\u001b[0m \u001b[32m━━━━━━━━━━━━━━━━━━━━\u001b[0m\u001b[37m\u001b[0m \u001b[1m5s\u001b[0m 213ms/step - accuracy: 0.5511 - loss: 0.6851\n",
      "Epoch 5/25\n",
      "\u001b[1m21/21\u001b[0m \u001b[32m━━━━━━━━━━━━━━━━━━━━\u001b[0m\u001b[37m\u001b[0m \u001b[1m4s\u001b[0m 211ms/step - accuracy: 0.5567 - loss: 0.6840\n",
      "Epoch 6/25\n",
      "\u001b[1m21/21\u001b[0m \u001b[32m━━━━━━━━━━━━━━━━━━━━\u001b[0m\u001b[37m\u001b[0m \u001b[1m4s\u001b[0m 209ms/step - accuracy: 0.6242 - loss: 0.6724\n",
      "Epoch 7/25\n",
      "\u001b[1m21/21\u001b[0m \u001b[32m━━━━━━━━━━━━━━━━━━━━\u001b[0m\u001b[37m\u001b[0m \u001b[1m5s\u001b[0m 224ms/step - accuracy: 0.5730 - loss: 0.6713\n",
      "Epoch 8/25\n",
      "\u001b[1m21/21\u001b[0m \u001b[32m━━━━━━━━━━━━━━━━━━━━\u001b[0m\u001b[37m\u001b[0m \u001b[1m5s\u001b[0m 219ms/step - accuracy: 0.5961 - loss: 0.6616\n",
      "Epoch 9/25\n",
      "\u001b[1m21/21\u001b[0m \u001b[32m━━━━━━━━━━━━━━━━━━━━\u001b[0m\u001b[37m\u001b[0m \u001b[1m5s\u001b[0m 209ms/step - accuracy: 0.5784 - loss: 0.6737\n",
      "Epoch 10/25\n",
      "\u001b[1m21/21\u001b[0m \u001b[32m━━━━━━━━━━━━━━━━━━━━\u001b[0m\u001b[37m\u001b[0m \u001b[1m5s\u001b[0m 211ms/step - accuracy: 0.6294 - loss: 0.6632\n",
      "Epoch 11/25\n",
      "\u001b[1m21/21\u001b[0m \u001b[32m━━━━━━━━━━━━━━━━━━━━\u001b[0m\u001b[37m\u001b[0m \u001b[1m5s\u001b[0m 214ms/step - accuracy: 0.5897 - loss: 0.6729\n",
      "Epoch 12/25\n",
      "\u001b[1m21/21\u001b[0m \u001b[32m━━━━━━━━━━━━━━━━━━━━\u001b[0m\u001b[37m\u001b[0m \u001b[1m5s\u001b[0m 212ms/step - accuracy: 0.6904 - loss: 0.6476\n",
      "Epoch 13/25\n",
      "\u001b[1m21/21\u001b[0m \u001b[32m━━━━━━━━━━━━━━━━━━━━\u001b[0m\u001b[37m\u001b[0m \u001b[1m5s\u001b[0m 212ms/step - accuracy: 0.6563 - loss: 0.6207\n",
      "Epoch 14/25\n",
      "\u001b[1m21/21\u001b[0m \u001b[32m━━━━━━━━━━━━━━━━━━━━\u001b[0m\u001b[37m\u001b[0m \u001b[1m5s\u001b[0m 243ms/step - accuracy: 0.5846 - loss: 0.6504\n",
      "Epoch 15/25\n",
      "\u001b[1m21/21\u001b[0m \u001b[32m━━━━━━━━━━━━━━━━━━━━\u001b[0m\u001b[37m\u001b[0m \u001b[1m4s\u001b[0m 208ms/step - accuracy: 0.6055 - loss: 0.6576\n",
      "Epoch 16/25\n",
      "\u001b[1m21/21\u001b[0m \u001b[32m━━━━━━━━━━━━━━━━━━━━\u001b[0m\u001b[37m\u001b[0m \u001b[1m5s\u001b[0m 211ms/step - accuracy: 0.6838 - loss: 0.6085\n",
      "Epoch 17/25\n",
      "\u001b[1m21/21\u001b[0m \u001b[32m━━━━━━━━━━━━━━━━━━━━\u001b[0m\u001b[37m\u001b[0m \u001b[1m5s\u001b[0m 209ms/step - accuracy: 0.6973 - loss: 0.6112\n",
      "Epoch 18/25\n",
      "\u001b[1m21/21\u001b[0m \u001b[32m━━━━━━━━━━━━━━━━━━━━\u001b[0m\u001b[37m\u001b[0m \u001b[1m5s\u001b[0m 213ms/step - accuracy: 0.6435 - loss: 0.6278\n",
      "Epoch 19/25\n",
      "\u001b[1m21/21\u001b[0m \u001b[32m━━━━━━━━━━━━━━━━━━━━\u001b[0m\u001b[37m\u001b[0m \u001b[1m5s\u001b[0m 213ms/step - accuracy: 0.7213 - loss: 0.5694\n",
      "Epoch 20/25\n",
      "\u001b[1m21/21\u001b[0m \u001b[32m━━━━━━━━━━━━━━━━━━━━\u001b[0m\u001b[37m\u001b[0m \u001b[1m5s\u001b[0m 215ms/step - accuracy: 0.7216 - loss: 0.5776\n",
      "Epoch 21/25\n",
      "\u001b[1m21/21\u001b[0m \u001b[32m━━━━━━━━━━━━━━━━━━━━\u001b[0m\u001b[37m\u001b[0m \u001b[1m5s\u001b[0m 241ms/step - accuracy: 0.6679 - loss: 0.5961\n",
      "Epoch 22/25\n",
      "\u001b[1m21/21\u001b[0m \u001b[32m━━━━━━━━━━━━━━━━━━━━\u001b[0m\u001b[37m\u001b[0m \u001b[1m5s\u001b[0m 216ms/step - accuracy: 0.6617 - loss: 0.6211\n",
      "Epoch 23/25\n",
      "\u001b[1m21/21\u001b[0m \u001b[32m━━━━━━━━━━━━━━━━━━━━\u001b[0m\u001b[37m\u001b[0m \u001b[1m5s\u001b[0m 213ms/step - accuracy: 0.7096 - loss: 0.5522\n",
      "Epoch 24/25\n",
      "\u001b[1m21/21\u001b[0m \u001b[32m━━━━━━━━━━━━━━━━━━━━\u001b[0m\u001b[37m\u001b[0m \u001b[1m5s\u001b[0m 222ms/step - accuracy: 0.7007 - loss: 0.6278\n",
      "Epoch 25/25\n",
      "\u001b[1m21/21\u001b[0m \u001b[32m━━━━━━━━━━━━━━━━━━━━\u001b[0m\u001b[37m\u001b[0m \u001b[1m5s\u001b[0m 216ms/step - accuracy: 0.7181 - loss: 0.5133\n"
     ]
    },
    {
     "data": {
      "text/plain": [
       "<keras.src.callbacks.history.History at 0x7acb8dbf9ed0>"
      ]
     },
     "execution_count": 17,
     "metadata": {},
     "output_type": "execute_result"
    }
   ],
   "source": [
    "model.fit(X_train,y_train,epochs=25,batch_size=12)"
   ]
  },
  {
   "cell_type": "code",
   "execution_count": 18,
   "id": "769c46a0",
   "metadata": {
    "execution": {
     "iopub.execute_input": "2024-10-16T14:59:25.910617Z",
     "iopub.status.busy": "2024-10-16T14:59:25.910172Z",
     "iopub.status.idle": "2024-10-16T14:59:26.973777Z",
     "shell.execute_reply": "2024-10-16T14:59:26.972597Z"
    },
    "papermill": {
     "duration": 1.132695,
     "end_time": "2024-10-16T14:59:26.976465",
     "exception": false,
     "start_time": "2024-10-16T14:59:25.843770",
     "status": "completed"
    },
    "tags": []
   },
   "outputs": [
    {
     "name": "stdout",
     "output_type": "stream",
     "text": [
      "\u001b[1m5/5\u001b[0m \u001b[32m━━━━━━━━━━━━━━━━━━━━\u001b[0m\u001b[37m\u001b[0m \u001b[1m1s\u001b[0m 165ms/step - accuracy: 0.7286 - loss: 0.5579\n"
     ]
    },
    {
     "data": {
      "text/plain": [
       "[0.7512978911399841, 0.5620915293693542]"
      ]
     },
     "execution_count": 18,
     "metadata": {},
     "output_type": "execute_result"
    }
   ],
   "source": [
    "model.evaluate(X_test,y_test)"
   ]
  },
  {
   "cell_type": "code",
   "execution_count": 19,
   "id": "dfd83bda",
   "metadata": {
    "execution": {
     "iopub.execute_input": "2024-10-16T14:59:27.119983Z",
     "iopub.status.busy": "2024-10-16T14:59:27.119480Z",
     "iopub.status.idle": "2024-10-16T14:59:27.142105Z",
     "shell.execute_reply": "2024-10-16T14:59:27.140908Z"
    },
    "papermill": {
     "duration": 0.102102,
     "end_time": "2024-10-16T14:59:27.144738",
     "exception": false,
     "start_time": "2024-10-16T14:59:27.042636",
     "status": "completed"
    },
    "tags": []
   },
   "outputs": [
    {
     "data": {
      "text/plain": [
       "array([[[  2,   4,   1],\n",
       "        [  1,   3,   0],\n",
       "        [  2,   4,   1],\n",
       "        ...,\n",
       "        [  3,   4,   0],\n",
       "        [  5,   6,   1],\n",
       "        [  4,   5,   0]],\n",
       "\n",
       "       [[  0,   1,   0],\n",
       "        [  1,   3,   0],\n",
       "        [  1,   3,   0],\n",
       "        ...,\n",
       "        [  1,   3,   0],\n",
       "        [  3,   5,   0],\n",
       "        [  2,   4,   0]],\n",
       "\n",
       "       [[  1,   3,   0],\n",
       "        [  0,   2,   0],\n",
       "        [  0,   1,   0],\n",
       "        ...,\n",
       "        [  2,   4,   0],\n",
       "        [  4,   6,   1],\n",
       "        [  4,   6,   1]],\n",
       "\n",
       "       ...,\n",
       "\n",
       "       [[224, 169, 104],\n",
       "        [223, 166,  97],\n",
       "        [221, 160,  93],\n",
       "        ...,\n",
       "        [216, 173,  95],\n",
       "        [233, 186, 118],\n",
       "        [241, 205, 157]],\n",
       "\n",
       "       [[226, 174, 114],\n",
       "        [221, 167, 103],\n",
       "        [222, 167, 102],\n",
       "        ...,\n",
       "        [218, 171, 117],\n",
       "        [203, 165, 100],\n",
       "        [210, 157,  89]],\n",
       "\n",
       "       [[244, 201, 150],\n",
       "        [237, 192, 135],\n",
       "        [238, 189, 131],\n",
       "        ...,\n",
       "        [183, 118,  52],\n",
       "        [199, 162, 110],\n",
       "        [210, 164, 102]]], dtype=uint8)"
      ]
     },
     "execution_count": 19,
     "metadata": {},
     "output_type": "execute_result"
    }
   ],
   "source": [
    "img=imread('/kaggle/input/hymenoptera/hymenoptera/val/ants/1124525276_816a07c17f.jpg')\n",
    "img"
   ]
  },
  {
   "cell_type": "code",
   "execution_count": 20,
   "id": "24212b7e",
   "metadata": {
    "execution": {
     "iopub.execute_input": "2024-10-16T14:59:27.287602Z",
     "iopub.status.busy": "2024-10-16T14:59:27.287189Z",
     "iopub.status.idle": "2024-10-16T14:59:27.313243Z",
     "shell.execute_reply": "2024-10-16T14:59:27.311944Z"
    },
    "papermill": {
     "duration": 0.097541,
     "end_time": "2024-10-16T14:59:27.315982",
     "exception": false,
     "start_time": "2024-10-16T14:59:27.218441",
     "status": "completed"
    },
    "tags": []
   },
   "outputs": [],
   "source": [
    "img=resize(img,(150,150,1))\n",
    "img=img.reshape(1,150,150,1)"
   ]
  },
  {
   "cell_type": "code",
   "execution_count": 21,
   "id": "f2ee07ef",
   "metadata": {
    "execution": {
     "iopub.execute_input": "2024-10-16T14:59:27.452061Z",
     "iopub.status.busy": "2024-10-16T14:59:27.451580Z",
     "iopub.status.idle": "2024-10-16T14:59:27.592922Z",
     "shell.execute_reply": "2024-10-16T14:59:27.591626Z"
    },
    "papermill": {
     "duration": 0.211232,
     "end_time": "2024-10-16T14:59:27.595722",
     "exception": false,
     "start_time": "2024-10-16T14:59:27.384490",
     "status": "completed"
    },
    "tags": []
   },
   "outputs": [
    {
     "name": "stdout",
     "output_type": "stream",
     "text": [
      "\u001b[1m1/1\u001b[0m \u001b[32m━━━━━━━━━━━━━━━━━━━━\u001b[0m\u001b[37m\u001b[0m \u001b[1m0s\u001b[0m 82ms/step\n"
     ]
    },
    {
     "data": {
      "text/plain": [
       "'bees'"
      ]
     },
     "execution_count": 21,
     "metadata": {},
     "output_type": "execute_result"
    }
   ],
   "source": [
    "y_new=model.predict(img)\n",
    "index=y_new.argmax()\n",
    "categories[index]"
   ]
  }
 ],
 "metadata": {
  "kaggle": {
   "accelerator": "none",
   "dataSources": [
    {
     "datasetId": 2162842,
     "sourceId": 3608460,
     "sourceType": "datasetVersion"
    }
   ],
   "dockerImageVersionId": 30786,
   "isGpuEnabled": false,
   "isInternetEnabled": false,
   "language": "python",
   "sourceType": "notebook"
  },
  "kernelspec": {
   "display_name": "Python 3",
   "language": "python",
   "name": "python3"
  },
  "language_info": {
   "codemirror_mode": {
    "name": "ipython",
    "version": 3
   },
   "file_extension": ".py",
   "mimetype": "text/x-python",
   "name": "python",
   "nbconvert_exporter": "python",
   "pygments_lexer": "ipython3",
   "version": "3.10.14"
  },
  "papermill": {
   "default_parameters": {},
   "duration": 170.541588,
   "end_time": "2024-10-16T14:59:29.290929",
   "environment_variables": {},
   "exception": null,
   "input_path": "__notebook__.ipynb",
   "output_path": "__notebook__.ipynb",
   "parameters": {},
   "start_time": "2024-10-16T14:56:38.749341",
   "version": "2.6.0"
  }
 },
 "nbformat": 4,
 "nbformat_minor": 5
}
